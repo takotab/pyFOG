{
 "cells": [
  {
   "cell_type": "markdown",
   "metadata": {},
   "source": [
    "# Showcase Machine Learning"
   ]
  },
  {
   "cell_type": "markdown",
   "metadata": {},
   "source": [
    "This notebook is just a showcase for me using a number of Python libraries related to machine learning. I will use the data from the daphnet data set (bachlin et al. 2010) available via the UCI database. I will use the features as used for my master thesis. The Matlab code to make these features is available in the FOG project. In this project, I will only use the extracted features to classify FOG or nFOG using different ML techniques."
   ]
  },
  {
   "cell_type": "code",
   "execution_count": 1,
   "metadata": {
    "collapsed": true
   },
   "outputs": [],
   "source": [
    "import pandas as pd\n",
    "import numpy as np\n",
    "from sklearn.linear_model import LogisticRegression\n",
    "from sklearn.metrics import confusion_matrix, make_scorer, classification_report\n",
    "import matplotlib.pyplot as plt\n",
    "%matplotlib inline"
   ]
  },
  {
   "cell_type": "code",
   "execution_count": 51,
   "metadata": {
    "collapsed": false
   },
   "outputs": [
    {
     "name": "stdout",
     "output_type": "stream",
     "text": [
      "(4619, 80) (2600, 80) (1806, 80)\n"
     ]
    }
   ],
   "source": [
    "df_test = pd.read_csv(\"test_dd.csv\")\n",
    "df_train_val = pd.read_csv(\"train_dd.csv\")\n",
    "n,m = df_train.shape\n",
    "n_val = int(n*0.8)\n",
    "df_val = df_train_val.iloc[n_val:,:]\n",
    "df_train = df_train_val.iloc[:n_val-1:]\n",
    "print(df_train.shape,df_val.shape,df_test.shape)\n",
    "FOG_weight = (len(df_train)/np.sum(df_train.iloc[:,0]))"
   ]
  },
  {
   "cell_type": "markdown",
   "metadata": {},
   "source": [
    "## Cost function"
   ]
  },
  {
   "cell_type": "code",
   "execution_count": 3,
   "metadata": {
    "collapsed": false
   },
   "outputs": [],
   "source": [
    "def geomean_cost(y_true, y_pred, extra_incentive = True, incl_accuracy = True, extra_incentive_value = 0.7):\n",
    "    \"\"\"Compute geomean_cost to evaluate the accuracy of a classification\n",
    "    By definition the geomean is :math:`sqrt(sensitifity*specificity)`.\n",
    "    This function adds an extra incentive to improve if either the sensitivity or \n",
    "    the specificity is lower than extra_incentive_value ( default = 0.7).\n",
    "    If incl_accuracy then it will return -accuracy if geomean is 0.\n",
    "    Parameters\n",
    "    ----------\n",
    "    y_true : array, shape = [n_samples]\n",
    "        Ground truth (correct) target values.\n",
    "    y_pred : array, shape = [n_samples]\n",
    "        Estimated targets as returned by a classifier.\n",
    "   extra_incentive : bool, default: True\n",
    "       extra_incentive will punch more if sensitifity \n",
    "       or specificity is below extraincentivevalue.\n",
    "   incl_accuracy : bool, default: True\n",
    "       Will return - accuracy if geomean <=0\n",
    "   extra_incentive_value:  float, default: 0.7\n",
    "       The threshold for the extra incentive to start\n",
    "       punishing if either sensitifity or specificity is\n",
    "       lower than this value. This number must be between 0 and 1.\n",
    "    Returns\n",
    "    -------\n",
    "    cost : float\n",
    "        cost\n",
    "    \"\"\"\n",
    "    if extra_incentive_value >= 1 or extra_incentive_value <= 0:\n",
    "        error()    \n",
    "    from sklearn.metrics import confusion_matrix\n",
    "    c = confusion_matrix(y_true, y_pred)\n",
    "    sens = c[1,1]/np.sum(c[1,]) # TP/(TP+FN)\n",
    "    spec = c[0,0]/np.sum(c[0,]) # TN/(TN+FP)\n",
    "    geomean = np.sqrt(sens*spec)\n",
    "    cost = geomean\n",
    "    if extra_incentive:\n",
    "        if sens < extra_incentive_value: \n",
    "            cost *= (sens+0.3)\n",
    "        if spec < extra_incentive_value:\n",
    "            cost *= (spec+0.3)\n",
    "    if cost <= 0 and incl_accuracy:\n",
    "        cost = -1 + np.divide(np.sum(c[0,0],c[1,1]),np.sum(c)) # (TP + TN)/(TP + FN + TN + FP)\n",
    "    return cost\n",
    "geo_cost = make_scorer(geomean_cost,greater_is_better=True)"
   ]
  },
  {
   "cell_type": "markdown",
   "metadata": {},
   "source": [
    "## Logistic regression"
   ]
  },
  {
   "cell_type": "code",
   "execution_count": 69,
   "metadata": {
    "collapsed": false
   },
   "outputs": [
    {
     "name": "stdout",
     "output_type": "stream",
     "text": [
      "(4619,)\n",
      "             precision    recall  f1-score   support\n",
      "\n",
      "       nFOG       0.94      0.77      0.84      2341\n",
      "        FOG       0.20      0.54      0.30       259\n",
      "\n",
      "avg / total       0.86      0.74      0.79      2600\n",
      "\n",
      "Cost:\t:0.5406809853276627\n"
     ]
    },
    {
     "name": "stderr",
     "output_type": "stream",
     "text": [
      "C:\\Program Files\\Anaconda3\\lib\\site-packages\\sklearn\\linear_model\\sag.py:326: ConvergenceWarning: The max_iter was reached which means the coef_ did not converge\n",
      "  \"the coef_ did not converge\", ConvergenceWarning)\n"
     ]
    }
   ],
   "source": [
    "sample_weight = df_train.iloc[:,0] * FOG_weight +1\n",
    "\n",
    "log = LogisticRegression(solver='sag', max_iter= 200)\n",
    "log.fit(df_train.iloc[:,1:77],df_train.iloc[:,0],sample_weight = sample_weight)\n",
    "y_val_pred_log = log.predict(df_val.iloc[:,1:77])\n",
    "\n",
    "print(classification_report(df_val.iloc[:,0], y_val_pred_log, target_names=[\"nFOG\",\"FOG\"]))\n",
    "cost = geomean_cost(df_val.iloc[:,0], y_val_pred_log)\n",
    "print(\"Cost:\\t:{0}\".format(cost))\n",
    "y_tv_pred_log = log.predict(df_train_val.iloc[:,1:77])"
   ]
  },
  {
   "cell_type": "markdown",
   "metadata": {},
   "source": [
    "## Support Vector Machine"
   ]
  },
  {
   "cell_type": "code",
   "execution_count": 68,
   "metadata": {
    "collapsed": false
   },
   "outputs": [
    {
     "name": "stdout",
     "output_type": "stream",
     "text": [
      "             precision    recall  f1-score   support\n",
      "\n",
      "       nFOG       0.94      0.78      0.85      2341\n",
      "        FOG       0.21      0.53      0.30       259\n",
      "\n",
      "avg / total       0.86      0.75      0.80      2600\n",
      "\n",
      "Cost:\t:0.5279041276975039\n"
     ]
    }
   ],
   "source": [
    "from sklearn import svm\n",
    "from sklearn.model_selection import learning_curve\n",
    "\n",
    "svml = svm.LinearSVC(class_weight='balanced')\n",
    "svml.fit(df_train.iloc[:,1:77], df_train.iloc[:,0])\n",
    "\n",
    "y_val_pred_svm = svml.predict(df_val.iloc[:,1:77])\n",
    "\n",
    "print(classification_report(df_val.iloc[:,0], y_val_pred_svm, target_names=[\"nFOG\",\"FOG\"]))\n",
    "cost = geomean_cost(df_val.iloc[:,0], y_val_pred_svm)\n",
    "print(\"Cost:\\t:{0}\".format(cost))\n",
    "y_tv_pred_svm = svml.predict(df_train_val.iloc[:,1:77])"
   ]
  },
  {
   "cell_type": "markdown",
   "metadata": {},
   "source": [
    "## Decision Trees methods"
   ]
  },
  {
   "cell_type": "code",
   "execution_count": 119,
   "metadata": {
    "collapsed": false
   },
   "outputs": [
    {
     "data": {
      "text/plain": [
       "GridSearchCV(cv=None, error_score='raise',\n",
       "       estimator=DecisionTreeClassifier(class_weight='balanced', criterion='entropy',\n",
       "            max_depth=None, max_features=None, max_leaf_nodes=None,\n",
       "            min_impurity_decrease=0.0, min_impurity_split=None,\n",
       "            min_samples_leaf=1, min_samples_split=2,\n",
       "            min_weight_fraction_leaf=0.0, presort=False, random_state=None,\n",
       "            splitter='best'),\n",
       "       fit_params=None, iid=True, n_jobs=1,\n",
       "       param_grid={'min_samples_leaf': array([ 0.1  ,  0.125,  0.15 ,  0.175,  0.2  ,  0.225,  0.25 ,  0.275,\n",
       "        0.3  ,  0.325,  0.35 ,  0.375,  0.4  ,  0.425,  0.45 ,  0.475]), 'max_depth': array([ 1,  2,  3,  4,  5,  6,  7,  8,  9, 10])},\n",
       "       pre_dispatch='2*n_jobs', refit=True, return_train_score=True,\n",
       "       scoring=make_scorer(geomean_cost), verbose=0)"
      ]
     },
     "execution_count": 119,
     "metadata": {},
     "output_type": "execute_result"
    }
   ],
   "source": [
    "from sklearn.tree import DecisionTreeClassifier\n",
    "from sklearn.model_selection import GridSearchCV\n",
    "min_s_l_options = np.arange(0.1,0.5,0.025)\n",
    "max_depth_options = np.arange(1,11)\n",
    "max_features_option = np.arange(10,76,6)\n",
    "parameters = {'min_samples_leaf': min_s_l_options, 'max_depth':max_depth_options} #,\"max_features\": max_features_option\n",
    "dtc = DecisionTreeClassifier(criterion = 'entropy', class_weight = 'balanced')\n",
    "dtc_cv = GridSearchCV(dtc, parameters,scoring=geo_cost)\n",
    "dtc_cv.fit(df_train.iloc[:,1:77],df_train.iloc[:,0])\n"
   ]
  },
  {
   "cell_type": "code",
   "execution_count": 67,
   "metadata": {
    "collapsed": false
   },
   "outputs": [
    {
     "data": {
      "image/png": "[encoded data removed]",
      "text/plain": [
       "<matplotlib.figure.Figure at 0x1ff01240cc0>"
      ]
     },
     "metadata": {},
     "output_type": "display_data"
    },
    {
     "name": "stdout",
     "output_type": "stream",
     "text": [
      "             precision    recall  f1-score   support\n",
      "\n",
      "       nFOG       0.96      0.55      0.70      2341\n",
      "        FOG       0.17      0.82      0.28       259\n",
      "\n",
      "avg / total       0.89      0.58      0.66      2600\n",
      "\n",
      "Cost:\t:0.571056501423908\n"
     ]
    }
   ],
   "source": [
    "scores = dtc_cv.cv_results_['mean_score_time']\n",
    "scores = scores.reshape(len(min_s_l_options), len(max_depth_options))\n",
    "plt.imshow(scores)\n",
    "plt.title(\"Cross-Validation for 2 parameters in DTC\")\n",
    "plt.xlabel(\"Max depth\")\n",
    "plt.ylabel(\"Min sample leaf\")\n",
    "plt.show()\n",
    "\n",
    "y_val_pred_dtc = dtc_cv.predict(df_val.iloc[:,1:77])\n",
    "\n",
    "print(classification_report(df_val.iloc[:,0], y_val_pred_dtc, target_names=[\"nFOG\",\"FOG\"]))\n",
    "cost = geomean_cost(df_val.iloc[:,0], y_val_pred_dtc)\n",
    "print(\"Cost:\\t:{0}\".format(cost))\n",
    "y_tv_pred_dtc_cv = dtc_cv.predict(df_train_val.iloc[:,1:77])"
   ]
  },
  {
   "cell_type": "markdown",
   "metadata": {},
   "source": [
    "## Ensemble"
   ]
  },
  {
   "cell_type": "code",
   "execution_count": 115,
   "metadata": {
    "collapsed": false
   },
   "outputs": [
    {
     "name": "stdout",
     "output_type": "stream",
     "text": [
      "             precision    recall  f1-score   support\n",
      "\n",
      "       nFOG       0.97      0.78      0.87      6474\n",
      "        FOG       0.30      0.79      0.43       746\n",
      "\n",
      "avg / total       0.90      0.79      0.82      7220\n",
      "\n",
      "Cost:\t:0.7885197519626359\n"
     ]
    },
    {
     "name": "stderr",
     "output_type": "stream",
     "text": [
      "C:\\Program Files\\Anaconda3\\lib\\site-packages\\sklearn\\linear_model\\sag.py:326: ConvergenceWarning: The max_iter was reached which means the coef_ did not converge\n",
      "  \"the coef_ did not converge\", ConvergenceWarning)\n"
     ]
    }
   ],
   "source": [
    "log_en = LogisticRegression(solver='sag', max_iter= 200)\n",
    "X_train = np.hstack((y_tv_pred_log[:,np.newaxis],y_tv_pred_svm[:,np.newaxis],y_tv_pred_dtc_cv[:,np.newaxis]))\n",
    "\n",
    "sample_weight = df_train_val.iloc[:,0] * FOG_weight +1\n",
    "log_en.fit(X, df_train_val.iloc[:,0], sample_weight)\n",
    "y_tv_log_en = log_en.predict(X_train)\n",
    "\n",
    "\n",
    "print(classification_report(df_train_val.iloc[:,0], y_tv_log_en, target_names=[\"nFOG\",\"FOG\"]))\n",
    "cost = geomean_cost(df_train_val.iloc[:,0], y_tv_log_en)\n",
    "print(\"Cost:\\t:{0}\".format(cost))"
   ]
  },
  {
   "cell_type": "code",
   "execution_count": 122,
   "metadata": {
    "collapsed": false
   },
   "outputs": [
    {
     "name": "stdout",
     "output_type": "stream",
     "text": [
      "             precision    recall  f1-score   support\n",
      "\n",
      "       nFOG       0.96      0.75      0.84      1670\n",
      "        FOG       0.17      0.61      0.26       136\n",
      "\n",
      "avg / total       0.90      0.74      0.80      1806\n",
      "\n",
      "Cost:\t:0.6169652899206691\n"
     ]
    }
   ],
   "source": [
    "y_pred_log = log.predict(df_test.iloc[:,1:77])\n",
    "y_pred_svm = svml.predict(df_test.iloc[:,1:77])\n",
    "y_pred_dtc = dtc_cv.predict(df_test.iloc[:,1:77])\n",
    "\n",
    "X_test = np.hstack((y_pred_log[:,np.newaxis],y_pred_svm[:,np.newaxis],y_pred_dtc[:,np.newaxis]))\n",
    "y_tv_log_en = log_en.predict(X_test)\n",
    "\n",
    "\n",
    "print(classification_report(df_test.iloc[:,0], y_tv_log_en, target_names=[\"nFOG\",\"FOG\"]))\n",
    "cost = geomean_cost(df_test.iloc[:,0], y_tv_log_en)\n",
    "print(\"Cost:\\t:{0}\".format(cost))"
   ]
  }
 ],
 "metadata": {
  "anaconda-cloud": {},
  "kernelspec": {
   "display_name": "Python [conda root]",
   "language": "python",
   "name": "conda-root-py"
  },
  "language_info": {
   "codemirror_mode": {
    "name": "ipython",
    "version": 3
   },
   "file_extension": ".py",
   "mimetype": "text/x-python",
   "name": "python",
   "nbconvert_exporter": "python",
   "pygments_lexer": "ipython3",
   "version": "3.5.2"
  }
 },
 "nbformat": 4,
 "nbformat_minor": 1
}
